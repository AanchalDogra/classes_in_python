{
  "nbformat": 4,
  "nbformat_minor": 0,
  "metadata": {
    "colab": {
      "provenance": [],
      "authorship_tag": "ABX9TyMUY51bSd+tb5p4cphYeYKg",
      "include_colab_link": true
    },
    "kernelspec": {
      "name": "python3",
      "display_name": "Python 3"
    },
    "language_info": {
      "name": "python"
    }
  },
  "cells": [
    {
      "cell_type": "markdown",
      "metadata": {
        "id": "view-in-github",
        "colab_type": "text"
      },
      "source": [
        "<a href=\"https://colab.research.google.com/github/AanchalDogra/classes_in_python/blob/master/Python_interview_code_15012024.ipynb\" target=\"_parent\"><img src=\"https://colab.research.google.com/assets/colab-badge.svg\" alt=\"Open In Colab\"/></a>"
      ]
    },
    {
      "cell_type": "code",
      "execution_count": 1,
      "metadata": {
        "colab": {
          "base_uri": "https://localhost:8080/"
        },
        "id": "pY7p20K2Mivs",
        "outputId": "3c2646ce-119d-4db9-f031-4e966d70c536"
      },
      "outputs": [
        {
          "output_type": "stream",
          "name": "stdout",
          "text": [
            "[(1, 2), (1, 3), (2, 3)]\n"
          ]
        }
      ],
      "source": [
        "from itertools import combinations\n",
        "\n",
        "# Generate all 2-element combinations of the list [1, 2, 3]\n",
        "result = list(combinations([1, 2, 3], 2))\n",
        "\n",
        "print(result)\n",
        "# Output: [(1, 2), (1, 3), (2, 3)]\n"
      ]
    },
    {
      "cell_type": "code",
      "source": [
        "import numpy as np\n",
        "import matplotlib.pyplot as plt\n",
        "\n",
        "x = np.random.randn(6777)\n",
        "plt.hist(x)"
      ],
      "metadata": {
        "colab": {
          "base_uri": "https://localhost:8080/",
          "height": 537
        },
        "id": "eevLcivaNOnx",
        "outputId": "466801cb-b91f-4627-fcc0-52a0cfe25f52"
      },
      "execution_count": 5,
      "outputs": [
        {
          "output_type": "execute_result",
          "data": {
            "text/plain": [
              "(array([2.000e+00, 3.000e+01, 1.970e+02, 8.230e+02, 1.805e+03, 2.163e+03,\n",
              "        1.303e+03, 3.750e+02, 7.300e+01, 6.000e+00]),\n",
              " array([-4.31943844, -3.49590276, -2.67236708, -1.8488314 , -1.02529572,\n",
              "        -0.20176004,  0.62177563,  1.44531131,  2.26884699,  3.09238267,\n",
              "         3.91591835]),\n",
              " <BarContainer object of 10 artists>)"
            ]
          },
          "metadata": {},
          "execution_count": 5
        },
        {
          "output_type": "display_data",
          "data": {
            "text/plain": [
              "<Figure size 640x480 with 1 Axes>"
            ],
            "image/png": "[encoded data removed]"
          },
          "metadata": {}
        }
      ]
    },
    {
      "cell_type": "code",
      "source": [
        "def factorial(x):\n",
        "    # Edge cases\n",
        "    if x < 0:\n",
        "        return -1\n",
        "    elif x == 0:\n",
        "        return 1\n",
        "    # Exit condition - x = 1\n",
        "    elif x == 1:\n",
        "        return x\n",
        "    else:\n",
        "        # Recursive part\n",
        "        return x * factorial(x - 1)\n"
      ],
      "metadata": {
        "id": "4UCZ44B7NXgY"
      },
      "execution_count": 8,
      "outputs": []
    },
    {
      "cell_type": "code",
      "source": [],
      "metadata": {
        "id": "zVKKq8BQN8SX"
      },
      "execution_count": null,
      "outputs": []
    }
  ]
}