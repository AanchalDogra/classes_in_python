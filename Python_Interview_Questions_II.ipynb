{
  "nbformat": 4,
  "nbformat_minor": 0,
  "metadata": {
    "colab": {
      "provenance": [],
      "authorship_tag": "ABX9TyNakuU6LOJ8t138A0+N0HUy",
      "include_colab_link": true
    },
    "kernelspec": {
      "name": "python3",
      "display_name": "Python 3"
    },
    "language_info": {
      "name": "python"
    }
  },
  "cells": [
    {
      "cell_type": "markdown",
      "metadata": {
        "id": "view-in-github",
        "colab_type": "text"
      },
      "source": [
        "<a href=\"https://colab.research.google.com/github/AanchalDogra/classes_in_python/blob/master/Python_Interview_Questions_II.ipynb\" target=\"_parent\"><img src=\"https://colab.research.google.com/assets/colab-badge.svg\" alt=\"Open In Colab\"/></a>"
      ]
    },
    {
      "cell_type": "code",
      "execution_count": 1,
      "metadata": {
        "id": "BWZqyG7hd47i"
      },
      "outputs": [],
      "source": [
        "x = [1,2,3,4,5]\n",
        "y = [3,4,5,6,7]"
      ]
    },
    {
      "cell_type": "markdown",
      "source": [
        "Q1: Given two arrays, write a python function to return the intersection of the two? For example, X = [1,5,9,0] and Y = [3,0,2,9] it should return [9,0]\n"
      ],
      "metadata": {
        "id": "kir61rDte6hb"
      }
    },
    {
      "cell_type": "code",
      "source": [
        "set(x).intersection(set(y))"
      ],
      "metadata": {
        "colab": {
          "base_uri": "https://localhost:8080/"
        },
        "id": "PBfbbTM7eKzB",
        "outputId": "916fcdbe-f4d7-496c-d4e4-0827fe0b07a7"
      },
      "execution_count": 3,
      "outputs": [
        {
          "output_type": "execute_result",
          "data": {
            "text/plain": [
              "{3, 4, 5}"
            ]
          },
          "metadata": {},
          "execution_count": 3
        }
      ]
    },
    {
      "cell_type": "markdown",
      "source": [
        "Q2: Given an array, find all the duplicates in this array? For example: input: [1,2,3,1,3,6,5] output: [1,3]"
      ],
      "metadata": {
        "id": "fzC5BaxafD-3"
      }
    },
    {
      "cell_type": "code",
      "source": [
        "x =  [1,2,3,1,3,6,5]"
      ],
      "metadata": {
        "id": "zRYiBMKEfFHz"
      },
      "execution_count": null,
      "outputs": []
    },
    {
      "cell_type": "code",
      "source": [],
      "metadata": {
        "id": "r6JIjCIye3gd"
      },
      "execution_count": null,
      "outputs": []
    },
    {
      "cell_type": "code",
      "source": [],
      "metadata": {
        "id": "xlrDJPlCe07F"
      },
      "execution_count": null,
      "outputs": []
    }
  ]
}